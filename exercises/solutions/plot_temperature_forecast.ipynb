{
 "cells": [
  {
   "cell_type": "markdown",
   "metadata": {},
   "source": [
    "# Exercise\n",
    "Represent the temperature forecast in the Strait of Gibraltar."
   ]
  },
  {
   "cell_type": "code",
   "execution_count": 2,
   "metadata": {},
   "outputs": [],
   "source": [
    "import os\n",
    "import matplotlib.pyplot as plt\n",
    "import numpy as np\n",
    "import netCDF4"
   ]
  },
  {
   "cell_type": "markdown",
   "metadata": {},
   "source": [
    "## 1. Data\n",
    "They are taken from the PdE OPEnDAP server."
   ]
  },
  {
   "cell_type": "code",
   "execution_count": 6,
   "metadata": {},
   "outputs": [],
   "source": [
    "dataurl = \"http://opendap.puertos.es/thredds/dodsC/circulation_regional_gib/2019/10/SAMGIB-PdE-hm-2019103000-2019110123-B2019103000-FC.nc\""
   ]
  },
  {
   "cell_type": "markdown",
   "metadata": {},
   "source": [
    "We create a function to extract the coordinates (lon, lat, time) and the temperature from the netCDF."
   ]
  },
  {
   "cell_type": "code",
   "execution_count": 17,
   "metadata": {},
   "outputs": [],
   "source": [
    "def get_temperature(datafile):\n",
    "    with netCDF4.Dataset(datafile) as ds:\n",
    "        lon = ds.variables[\"longitude\"][:]\n",
    "        lat = ds.variables[\"latitude\"][:]\n",
    "        time = ds.variables[\"time\"][:]\n",
    "        timeunits = ds.variables[\"time\"].units\n",
    "        T = ds.variables[\"temperature\"][:]\n",
    "        dates = netCDF4.num2date(time, timeunits)\n",
    "    return lon, lat, dates, T"
   ]
  },
  {
   "cell_type": "code",
   "execution_count": 18,
   "metadata": {},
   "outputs": [],
   "source": [
    "lon, lat, dates, T = get_temperature(dataurl)"
   ]
  },
  {
   "cell_type": "markdown",
   "metadata": {},
   "source": [
    "### Check dimensions"
   ]
  },
  {
   "cell_type": "code",
   "execution_count": 19,
   "metadata": {},
   "outputs": [
    {
     "data": {
      "text/plain": [
       "((72, 100, 200), (200,), (100,), (72,))"
      ]
     },
     "execution_count": 19,
     "metadata": {},
     "output_type": "execute_result"
    }
   ],
   "source": [
    "T.shape, lon.shape, lat.shape, dates.shape"
   ]
  },
  {
   "cell_type": "code",
   "execution_count": 20,
   "metadata": {},
   "outputs": [
    {
     "data": {
      "text/plain": [
       "array([datetime.datetime(2019, 10, 30, 0, 30),\n",
       "       datetime.datetime(2019, 10, 30, 1, 30),\n",
       "       datetime.datetime(2019, 10, 30, 2, 30),\n",
       "       datetime.datetime(2019, 10, 30, 3, 30),\n",
       "       datetime.datetime(2019, 10, 30, 4, 30),\n",
       "       datetime.datetime(2019, 10, 30, 5, 30),\n",
       "       datetime.datetime(2019, 10, 30, 6, 30),\n",
       "       datetime.datetime(2019, 10, 30, 7, 30),\n",
       "       datetime.datetime(2019, 10, 30, 8, 30),\n",
       "       datetime.datetime(2019, 10, 30, 9, 30),\n",
       "       datetime.datetime(2019, 10, 30, 10, 30),\n",
       "       datetime.datetime(2019, 10, 30, 11, 30),\n",
       "       datetime.datetime(2019, 10, 30, 12, 30),\n",
       "       datetime.datetime(2019, 10, 30, 13, 30),\n",
       "       datetime.datetime(2019, 10, 30, 14, 30),\n",
       "       datetime.datetime(2019, 10, 30, 15, 30),\n",
       "       datetime.datetime(2019, 10, 30, 16, 30),\n",
       "       datetime.datetime(2019, 10, 30, 17, 30),\n",
       "       datetime.datetime(2019, 10, 30, 18, 30),\n",
       "       datetime.datetime(2019, 10, 30, 19, 30),\n",
       "       datetime.datetime(2019, 10, 30, 20, 30),\n",
       "       datetime.datetime(2019, 10, 30, 21, 30),\n",
       "       datetime.datetime(2019, 10, 30, 22, 30),\n",
       "       datetime.datetime(2019, 10, 30, 23, 30),\n",
       "       datetime.datetime(2019, 10, 31, 0, 30),\n",
       "       datetime.datetime(2019, 10, 31, 1, 30),\n",
       "       datetime.datetime(2019, 10, 31, 2, 30),\n",
       "       datetime.datetime(2019, 10, 31, 3, 30),\n",
       "       datetime.datetime(2019, 10, 31, 4, 30),\n",
       "       datetime.datetime(2019, 10, 31, 5, 30),\n",
       "       datetime.datetime(2019, 10, 31, 6, 30),\n",
       "       datetime.datetime(2019, 10, 31, 7, 30),\n",
       "       datetime.datetime(2019, 10, 31, 8, 30),\n",
       "       datetime.datetime(2019, 10, 31, 9, 30),\n",
       "       datetime.datetime(2019, 10, 31, 10, 30),\n",
       "       datetime.datetime(2019, 10, 31, 11, 30),\n",
       "       datetime.datetime(2019, 10, 31, 12, 30),\n",
       "       datetime.datetime(2019, 10, 31, 13, 30),\n",
       "       datetime.datetime(2019, 10, 31, 14, 30),\n",
       "       datetime.datetime(2019, 10, 31, 15, 30),\n",
       "       datetime.datetime(2019, 10, 31, 16, 30),\n",
       "       datetime.datetime(2019, 10, 31, 17, 30),\n",
       "       datetime.datetime(2019, 10, 31, 18, 30),\n",
       "       datetime.datetime(2019, 10, 31, 19, 30),\n",
       "       datetime.datetime(2019, 10, 31, 20, 30),\n",
       "       datetime.datetime(2019, 10, 31, 21, 30),\n",
       "       datetime.datetime(2019, 10, 31, 22, 30),\n",
       "       datetime.datetime(2019, 10, 31, 23, 30),\n",
       "       datetime.datetime(2019, 11, 1, 0, 30),\n",
       "       datetime.datetime(2019, 11, 1, 1, 30),\n",
       "       datetime.datetime(2019, 11, 1, 2, 30),\n",
       "       datetime.datetime(2019, 11, 1, 3, 30),\n",
       "       datetime.datetime(2019, 11, 1, 4, 30),\n",
       "       datetime.datetime(2019, 11, 1, 5, 30),\n",
       "       datetime.datetime(2019, 11, 1, 6, 30),\n",
       "       datetime.datetime(2019, 11, 1, 7, 30),\n",
       "       datetime.datetime(2019, 11, 1, 8, 30),\n",
       "       datetime.datetime(2019, 11, 1, 9, 30),\n",
       "       datetime.datetime(2019, 11, 1, 10, 30),\n",
       "       datetime.datetime(2019, 11, 1, 11, 30),\n",
       "       datetime.datetime(2019, 11, 1, 12, 30),\n",
       "       datetime.datetime(2019, 11, 1, 13, 30),\n",
       "       datetime.datetime(2019, 11, 1, 14, 30),\n",
       "       datetime.datetime(2019, 11, 1, 15, 30),\n",
       "       datetime.datetime(2019, 11, 1, 16, 30),\n",
       "       datetime.datetime(2019, 11, 1, 17, 30),\n",
       "       datetime.datetime(2019, 11, 1, 18, 30),\n",
       "       datetime.datetime(2019, 11, 1, 19, 30),\n",
       "       datetime.datetime(2019, 11, 1, 20, 30),\n",
       "       datetime.datetime(2019, 11, 1, 21, 30),\n",
       "       datetime.datetime(2019, 11, 1, 22, 30),\n",
       "       datetime.datetime(2019, 11, 1, 23, 30)], dtype=object)"
      ]
     },
     "execution_count": 20,
     "metadata": {},
     "output_type": "execute_result"
    }
   ],
   "source": [
    "dates"
   ]
  },
  {
   "cell_type": "markdown",
   "metadata": {},
   "source": [
    "### Simple plot to check"
   ]
  },
  {
   "cell_type": "code",
   "execution_count": 24,
   "metadata": {},
   "outputs": [
    {
     "data": {
      "image/png": "[encoded data removed]",
      "text/plain": [
       "<matplotlib.figure.Figure at 0x7f139fcd12b0>"
      ]
     },
     "metadata": {},
     "output_type": "display_data"
    }
   ],
   "source": [
    "plt.pcolormesh(lon, lat, T[-1,:,:])\n",
    "plt.title(dates[-1])\n",
    "plt.show()"
   ]
  },
  {
   "cell_type": "markdown",
   "metadata": {},
   "source": [
    "## 2. Loop on time \n",
    "1. Create a plotting function.\n",
    "2. Create one figure per time instance."
   ]
  },
  {
   "cell_type": "markdown",
   "metadata": {},
   "source": [
    "### Plotting function"
   ]
  },
  {
   "cell_type": "code",
   "execution_count": 30,
   "metadata": {},
   "outputs": [],
   "source": [
    "def plot_temperature(lon, lat, date, temperature):\n",
    "    fig = plt.figure()\n",
    "    plt.pcolormesh(lon, lat, temperature, \n",
    "                   vmin=18.5, vmax=22.,\n",
    "                   cmap=plt.cm.RdYlBu_r)\n",
    "    plt.colorbar(extend=\"both\")\n",
    "    plt.title(date)"
   ]
  },
  {
   "cell_type": "code",
   "execution_count": 31,
   "metadata": {},
   "outputs": [
    {
     "name": "stderr",
     "output_type": "stream",
     "text": [
      "/home/ctroupin/Software/PythonEnvs/Diva-python3.6/lib/python3.6/site-packages/matplotlib/pyplot.py:523: RuntimeWarning: More than 20 figures have been opened. Figures created through the pyplot interface (`matplotlib.pyplot.figure`) are retained until explicitly closed and may consume too much memory. (To control this warning, see the rcParam `figure.max_open_warning`).\n",
      "  max_open_warning, RuntimeWarning)\n"
     ]
    }
   ],
   "source": [
    "for i, date in enumerate(dates):\n",
    "    plot_temperature(lon, lat, date, T[i,:,:])\n",
    "    plt.savefig(\"temperature_{}\".format(str(i).zfill(3)), \n",
    "                dpi=300, bbox_inches=\"tight\")"
   ]
  },
  {
   "cell_type": "markdown",
   "metadata": {},
   "source": [
    "## 3. Get the temperature near Cadiz"
   ]
  },
  {
   "cell_type": "code",
   "execution_count": null,
   "metadata": {},
   "outputs": [],
   "source": [
    "coordinates = (, )"
   ]
  }
 ],
 "metadata": {
  "kernelspec": {
   "display_name": "Diva-python3.6",
   "language": "python",
   "name": "diva-python3.6"
  },
  "language_info": {
   "codemirror_mode": {
    "name": "ipython",
    "version": 3
   },
   "file_extension": ".py",
   "mimetype": "text/x-python",
   "name": "python",
   "nbconvert_exporter": "python",
   "pygments_lexer": "ipython3",
   "version": "3.6.0"
  }
 },
 "nbformat": 4,
 "nbformat_minor": 2
}
