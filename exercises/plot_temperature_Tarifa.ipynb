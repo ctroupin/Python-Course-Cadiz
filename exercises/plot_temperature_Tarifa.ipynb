{
 "cells": [
  {
   "cell_type": "markdown",
   "metadata": {},
   "source": [
    "# Exercise\n",
    "1. download a netCDF file from [EMODnet-Physics](https://www.emodnet-physics.eu/Map/).\n",
    "2. read the time and the temperature from one of the downloaded files (hint: create a function).\n",
    "3. loop on all the files to read all the data.\n",
    "4. plot the time series."
   ]
  },
  {
   "cell_type": "code",
   "execution_count": 10,
   "metadata": {},
   "outputs": [],
   "source": [
    "# Add here all the \"import\" commands for the modules you need\n",
    "import os\n",
    "import glob\n",
    "import matplotlib.pyplot as plt\n",
    "import netCDF4\n",
    "import numpy as np"
   ]
  },
  {
   "cell_type": "markdown",
   "metadata": {},
   "source": [
    "## 1. Data file"
   ]
  },
  {
   "cell_type": "code",
   "execution_count": 11,
   "metadata": {},
   "outputs": [
    {
     "data": {
      "text/plain": [
       "True"
      ]
     },
     "execution_count": 11,
     "metadata": {},
     "output_type": "execute_result"
    }
   ],
   "source": [
    "datadir = \"../data/Tarifa-coast-buoy/\"\n",
    "datafile1 = os.path.join(datadir, \"IR_TS_MO_Tarifa-coast-buoy_20190830.nc\")\n",
    "os.path.exists(datafile1)"
   ]
  },
  {
   "cell_type": "markdown",
   "metadata": {},
   "source": [
    "## 2. Data reading\n",
    "Hint: use the [`netCDF4`](https://unidata.github.io/netcdf4-python/netCDF4/index.html) library."
   ]
  },
  {
   "cell_type": "code",
   "execution_count": 28,
   "metadata": {},
   "outputs": [],
   "source": [
    "def read_temp_nc(datafile):\n",
    "    \"\"\"\n",
    "    Read the time and the temperature from a netCDF file\n",
    "    \"\"\"\n",
    "    with netCDF4.Dataset(datafile) as nc:\n",
    "        time = nc.variables[\"TIME\"][:]\n",
    "        depth = nc.variables[\"DEPH\"][:]\n",
    "        temperature = nc.variables[\"TEMP\"][:,1]\n",
    "        \n",
    "    return time, temperature"
   ]
  },
  {
   "cell_type": "code",
   "execution_count": 29,
   "metadata": {},
   "outputs": [],
   "source": [
    "time, temperature = read_temp_nc(datafile1)"
   ]
  },
  {
   "cell_type": "markdown",
   "metadata": {},
   "source": [
    "### Simple plot to check"
   ]
  },
  {
   "cell_type": "code",
   "execution_count": 30,
   "metadata": {},
   "outputs": [
    {
     "data": {
      "image/png": "[encoded data removed]",
      "text/plain": [
       "<matplotlib.figure.Figure at 0x7fbf8212c630>"
      ]
     },
     "metadata": {},
     "output_type": "display_data"
    }
   ],
   "source": [
    "plt.plot(time, temperature)\n",
    "plt.show()"
   ]
  },
  {
   "cell_type": "markdown",
   "metadata": {},
   "source": [
    "## 3. Loop on the files\n",
    "Hint: create a file list using [`glob`](https://docs.python.org/2/library/glob.html) module.     "
   ]
  },
  {
   "cell_type": "code",
   "execution_count": 23,
   "metadata": {},
   "outputs": [
    {
     "data": {
      "text/plain": [
       "['../data/Tarifa-coast-buoy/IR_TS_MO_Tarifa-coast-buoy_20190830.nc',\n",
       " '../data/Tarifa-coast-buoy/IR_TS_MO_Tarifa-coast-buoy_20190831.nc',\n",
       " '../data/Tarifa-coast-buoy/IR_TS_MO_Tarifa-coast-buoy_20190901.nc',\n",
       " '../data/Tarifa-coast-buoy/IR_TS_MO_Tarifa-coast-buoy_20190902.nc',\n",
       " '../data/Tarifa-coast-buoy/IR_TS_MO_Tarifa-coast-buoy_20190903.nc',\n",
       " '../data/Tarifa-coast-buoy/IR_TS_MO_Tarifa-coast-buoy_20190904.nc',\n",
       " '../data/Tarifa-coast-buoy/IR_TS_MO_Tarifa-coast-buoy_20190905.nc',\n",
       " '../data/Tarifa-coast-buoy/IR_TS_MO_Tarifa-coast-buoy_20190906.nc',\n",
       " '../data/Tarifa-coast-buoy/IR_TS_MO_Tarifa-coast-buoy_20190907.nc',\n",
       " '../data/Tarifa-coast-buoy/IR_TS_MO_Tarifa-coast-buoy_20190908.nc',\n",
       " '../data/Tarifa-coast-buoy/IR_TS_MO_Tarifa-coast-buoy_20190909.nc',\n",
       " '../data/Tarifa-coast-buoy/IR_TS_MO_Tarifa-coast-buoy_20191016.nc',\n",
       " '../data/Tarifa-coast-buoy/IR_TS_MO_Tarifa-coast-buoy_20191017.nc',\n",
       " '../data/Tarifa-coast-buoy/IR_TS_MO_Tarifa-coast-buoy_20191018.nc',\n",
       " '../data/Tarifa-coast-buoy/IR_TS_MO_Tarifa-coast-buoy_20191019.nc',\n",
       " '../data/Tarifa-coast-buoy/IR_TS_MO_Tarifa-coast-buoy_20191020.nc',\n",
       " '../data/Tarifa-coast-buoy/IR_TS_MO_Tarifa-coast-buoy_20191021.nc',\n",
       " '../data/Tarifa-coast-buoy/IR_TS_MO_Tarifa-coast-buoy_20191022.nc',\n",
       " '../data/Tarifa-coast-buoy/IR_TS_MO_Tarifa-coast-buoy_20191023.nc',\n",
       " '../data/Tarifa-coast-buoy/IR_TS_MO_Tarifa-coast-buoy_20191024.nc',\n",
       " '../data/Tarifa-coast-buoy/IR_TS_MO_Tarifa-coast-buoy_20191025.nc',\n",
       " '../data/Tarifa-coast-buoy/IR_TS_MO_Tarifa-coast-buoy_20191026.nc',\n",
       " '../data/Tarifa-coast-buoy/IR_TS_MO_Tarifa-coast-buoy_20191027.nc',\n",
       " '../data/Tarifa-coast-buoy/IR_TS_MO_Tarifa-coast-buoy_20191028.nc']"
      ]
     },
     "execution_count": 23,
     "metadata": {},
     "output_type": "execute_result"
    }
   ],
   "source": [
    "datafilelist = sorted(glob.glob(datadir + \"*.nc\"))\n",
    "datafilelist"
   ]
  },
  {
   "cell_type": "code",
   "execution_count": 33,
   "metadata": {},
   "outputs": [
    {
     "name": "stdout",
     "output_type": "stream",
     "text": [
      "Working on ../data/Tarifa-coast-buoy/IR_TS_MO_Tarifa-coast-buoy_20190830.nc\n",
      "Working on ../data/Tarifa-coast-buoy/IR_TS_MO_Tarifa-coast-buoy_20190831.nc\n",
      "Working on ../data/Tarifa-coast-buoy/IR_TS_MO_Tarifa-coast-buoy_20190901.nc\n",
      "Working on ../data/Tarifa-coast-buoy/IR_TS_MO_Tarifa-coast-buoy_20190902.nc\n",
      "Working on ../data/Tarifa-coast-buoy/IR_TS_MO_Tarifa-coast-buoy_20190903.nc\n",
      "Working on ../data/Tarifa-coast-buoy/IR_TS_MO_Tarifa-coast-buoy_20190904.nc\n",
      "Working on ../data/Tarifa-coast-buoy/IR_TS_MO_Tarifa-coast-buoy_20190905.nc\n",
      "Working on ../data/Tarifa-coast-buoy/IR_TS_MO_Tarifa-coast-buoy_20190906.nc\n",
      "Working on ../data/Tarifa-coast-buoy/IR_TS_MO_Tarifa-coast-buoy_20190907.nc\n",
      "Working on ../data/Tarifa-coast-buoy/IR_TS_MO_Tarifa-coast-buoy_20190908.nc\n",
      "Working on ../data/Tarifa-coast-buoy/IR_TS_MO_Tarifa-coast-buoy_20190909.nc\n",
      "Working on ../data/Tarifa-coast-buoy/IR_TS_MO_Tarifa-coast-buoy_20191016.nc\n",
      "Working on ../data/Tarifa-coast-buoy/IR_TS_MO_Tarifa-coast-buoy_20191017.nc\n",
      "Working on ../data/Tarifa-coast-buoy/IR_TS_MO_Tarifa-coast-buoy_20191018.nc\n",
      "Working on ../data/Tarifa-coast-buoy/IR_TS_MO_Tarifa-coast-buoy_20191019.nc\n",
      "Working on ../data/Tarifa-coast-buoy/IR_TS_MO_Tarifa-coast-buoy_20191020.nc\n",
      "Working on ../data/Tarifa-coast-buoy/IR_TS_MO_Tarifa-coast-buoy_20191021.nc\n",
      "Working on ../data/Tarifa-coast-buoy/IR_TS_MO_Tarifa-coast-buoy_20191022.nc\n",
      "Working on ../data/Tarifa-coast-buoy/IR_TS_MO_Tarifa-coast-buoy_20191023.nc\n",
      "Working on ../data/Tarifa-coast-buoy/IR_TS_MO_Tarifa-coast-buoy_20191024.nc\n",
      "Working on ../data/Tarifa-coast-buoy/IR_TS_MO_Tarifa-coast-buoy_20191025.nc\n",
      "Working on ../data/Tarifa-coast-buoy/IR_TS_MO_Tarifa-coast-buoy_20191026.nc\n",
      "Working on ../data/Tarifa-coast-buoy/IR_TS_MO_Tarifa-coast-buoy_20191027.nc\n",
      "Working on ../data/Tarifa-coast-buoy/IR_TS_MO_Tarifa-coast-buoy_20191028.nc\n"
     ]
    }
   ],
   "source": [
    "timeall = np.array([])\n",
    "tempall = np.array([])\n",
    "for datafile in datafilelist:\n",
    "    print(\"Working on {}\".format(datafile))\n",
    "    time, temperature = read_temp_nc(datafile)\n",
    "    timeall = np.append(timeall, time)\n",
    "    tempall = np.append(tempall, temperature)"
   ]
  },
  {
   "cell_type": "markdown",
   "metadata": {},
   "source": [
    "### 4. Plot of the whole time series"
   ]
  },
  {
   "cell_type": "code",
   "execution_count": 34,
   "metadata": {},
   "outputs": [
    {
     "data": {
      "image/png": "[encoded data removed]",
      "text/plain": [
       "<matplotlib.figure.Figure at 0x7fbf81d51dd8>"
      ]
     },
     "metadata": {},
     "output_type": "display_data"
    }
   ],
   "source": [
    "plt.plot(timeall, tempall)\n",
    "plt.show()"
   ]
  },
  {
   "cell_type": "code",
   "execution_count": 38,
   "metadata": {},
   "outputs": [],
   "source": [
    "tempall_masked = np.ma.masked_where(tempall < 0.0, tempall)"
   ]
  },
  {
   "cell_type": "code",
   "execution_count": 40,
   "metadata": {},
   "outputs": [
    {
     "data": {
      "image/png": "[encoded data removed]",
      "text/plain": [
       "<matplotlib.figure.Figure at 0x7fbf824c30f0>"
      ]
     },
     "metadata": {},
     "output_type": "display_data"
    }
   ],
   "source": [
    "plt.plot(timeall, tempall_masked)\n",
    "plt.show()"
   ]
  },
  {
   "cell_type": "code",
   "execution_count": null,
   "metadata": {},
   "outputs": [],
   "source": []
  }
 ],
 "metadata": {
  "kernelspec": {
   "display_name": "Diva-python3.6",
   "language": "python",
   "name": "diva-python3.6"
  },
  "language_info": {
   "codemirror_mode": {
    "name": "ipython",
    "version": 3
   },
   "file_extension": ".py",
   "mimetype": "text/x-python",
   "name": "python",
   "nbconvert_exporter": "python",
   "pygments_lexer": "ipython3",
   "version": "3.6.0"
  }
 },
 "nbformat": 4,
 "nbformat_minor": 2
}
