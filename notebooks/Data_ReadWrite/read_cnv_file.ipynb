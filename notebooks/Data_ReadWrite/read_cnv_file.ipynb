{
 "cells": [
  {
   "cell_type": "markdown",
   "metadata": {},
   "source": [
    "# Seabird CTD file"
   ]
  },
  {
   "cell_type": "markdown",
   "metadata": {},
   "source": [
    "We examine how to read a `CNV` file from SeaBird.     \n",
    "The file corresponds to a profile acquired during a mission in the Balearic Sea."
   ]
  },
  {
   "cell_type": "code",
   "execution_count": 2,
   "metadata": {},
   "outputs": [],
   "source": [
    "cnvfile = \"../data/dsb01.cnv\""
   ]
  },
  {
   "cell_type": "markdown",
   "metadata": {},
   "source": [
    "There is a [cvn](https://pypi.python.org/pypi/cnv) module, but in the description it indicates that we should use the [seabird](https://github.com/castelao/seabird) module."
   ]
  },
  {
   "cell_type": "markdown",
   "metadata": {},
   "source": [
    "## Reading the profile and its attribute"
   ]
  },
  {
   "cell_type": "code",
   "execution_count": 3,
   "metadata": {},
   "outputs": [
    {
     "ename": "ImportError",
     "evalue": "No module named seabird.cnv",
     "output_type": "error",
     "traceback": [
      "\u001b[0;31m---------------------------------------------------------------------------\u001b[0m",
      "\u001b[0;31mImportError\u001b[0m                               Traceback (most recent call last)",
      "\u001b[0;32m<ipython-input-3-39852a8945cf>\u001b[0m in \u001b[0;36m<module>\u001b[0;34m()\u001b[0m\n\u001b[0;32m----> 1\u001b[0;31m \u001b[0;32mfrom\u001b[0m \u001b[0mseabird\u001b[0m\u001b[0;34m.\u001b[0m\u001b[0mcnv\u001b[0m \u001b[0;32mimport\u001b[0m \u001b[0mfCNV\u001b[0m\u001b[0;34m\u001b[0m\u001b[0m\n\u001b[0m\u001b[1;32m      2\u001b[0m \u001b[0mprofile\u001b[0m \u001b[0;34m=\u001b[0m \u001b[0mfCNV\u001b[0m\u001b[0;34m(\u001b[0m\u001b[0mcnvfile\u001b[0m\u001b[0;34m)\u001b[0m\u001b[0;34m\u001b[0m\u001b[0m\n",
      "\u001b[0;31mImportError\u001b[0m: No module named seabird.cnv"
     ]
    }
   ],
   "source": [
    "from seabird.cnv import fCNV\n",
    "profile = fCNV(cnvfile)"
   ]
  },
  {
   "cell_type": "markdown",
   "metadata": {},
   "source": [
    "To get the file header (as a dictionary):"
   ]
  },
  {
   "cell_type": "code",
   "execution_count": 15,
   "metadata": {},
   "outputs": [
    {
     "name": "stdout",
     "output_type": "stream",
     "text": [
      "{'instrument_type': 'CTD', 'sbe_model': '9', 'file_type': 'ascii', 'seasave': 'V 7.22', 'start_time': 'May 10 2015 15:43:53 [NMEA time, header]', 'nquan': '27', 'LONGITUDE': 2.79, 'datetime': datetime.datetime(2015, 5, 10, 15, 43, 53), 'gps_datetime': 'May 10 2015  15:43:53', 'bad_flag': '-9.990e-29', 'nvalues': '231', 'LATITUDE': 38.86516666666667, 'filename': 'dsb01.cnv', 'md5': 'e13cc440d147cdb0e9f76c6a1a630d3a'}\n"
     ]
    }
   ],
   "source": [
    "print(profile.attributes) "
   ]
  },
  {
   "cell_type": "markdown",
   "metadata": {},
   "source": [
    "To list the available variables:"
   ]
  },
  {
   "cell_type": "code",
   "execution_count": 16,
   "metadata": {},
   "outputs": [
    {
     "name": "stdout",
     "output_type": "stream",
     "text": [
      "['LATITUDE', 'LONGITUDE', 'DEPTH', 'PRES', 'TEMP', 'TEMP2', 'T2-T190C', 'c0mS/cm', 'c1mS/cm', 'C2-C1mS/cm', 'PSAL', 'PSAL2', 'secS-priS', 'density', 'density', 'D2-D1,d', 'sbeox0Mg/L', 'spar', 'par', 'flSP', 'seaTurbMtr', 'DEPTH', 'PSAL', 'density', 'sigma-\\xe900', 'nbin', 'flag']\n"
     ]
    }
   ],
   "source": [
    "print(profile.keys())"
   ]
  },
  {
   "cell_type": "markdown",
   "metadata": {},
   "source": [
    "To read some variables:"
   ]
  },
  {
   "cell_type": "code",
   "execution_count": 18,
   "metadata": {},
   "outputs": [],
   "source": [
    "temperature = profile['TEMP']\n",
    "depth = profile['DEPTH']"
   ]
  },
  {
   "cell_type": "markdown",
   "metadata": {},
   "source": [
    "## Small plot to check"
   ]
  },
  {
   "cell_type": "code",
   "execution_count": 10,
   "metadata": {
    "collapsed": true
   },
   "outputs": [],
   "source": [
    "import matplotlib.pyplot as plt\n",
    "%matplotlib inline"
   ]
  },
  {
   "cell_type": "code",
   "execution_count": 11,
   "metadata": {},
   "outputs": [
    {
     "data": {
      "image/png": "[encoded data removed]",
      "text/plain": [
       "<matplotlib.figure.Figure at 0x3928590>"
      ]
     },
     "metadata": {},
     "output_type": "display_data"
    }
   ],
   "source": [
    "plt.plot(temperature, -depth)\n",
    "plt.show()"
   ]
  }
 ],
 "metadata": {
  "kernelspec": {
   "display_name": "Python 2",
   "language": "python",
   "name": "python2"
  },
  "language_info": {
   "codemirror_mode": {
    "name": "ipython",
    "version": 2
   },
   "file_extension": ".py",
   "mimetype": "text/x-python",
   "name": "python",
   "nbconvert_exporter": "python",
   "pygments_lexer": "ipython2",
   "version": "2.7.15"
  }
 },
 "nbformat": 4,
 "nbformat_minor": 1
}
