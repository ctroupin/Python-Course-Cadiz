{
 "cells": [
  {
   "cell_type": "markdown",
   "metadata": {},
   "source": [
    "# Comma-Separated Values file"
   ]
  },
  {
   "cell_type": "markdown",
   "metadata": {},
   "source": [
    "This notebooks provides examples of how to read a Comma-Separated Values (CSV) file."
   ]
  },
  {
   "cell_type": "markdown",
   "metadata": {},
   "source": [
    "##  Reading the file"
   ]
  },
  {
   "cell_type": "markdown",
   "metadata": {},
   "source": [
    "The file for this example contains data from a mooring located in the [Ibiza Channel](http://socib.es/?seccion=observingFacilities&facility=mooring&id=146)."
   ]
  },
  {
   "cell_type": "code",
   "execution_count": 59,
   "metadata": {
    "collapsed": true
   },
   "outputs": [],
   "source": [
    "csvfile = \"../data/buoy-canaldeibiza_SALT_SBE37.csv\""
   ]
  },
  {
   "cell_type": "markdown",
   "metadata": {},
   "source": [
    "The [csv](https://docs.python.org/2/library/csv.html) module provide functions to manipulate this type of file."
   ]
  },
  {
   "cell_type": "code",
   "execution_count": 60,
   "metadata": {
    "collapsed": false
   },
   "outputs": [],
   "source": [
    "import csv\n",
    "f = open(csvfile, 'rb')\n",
    "reader = csv.reader(f, delimiter=',')"
   ]
  },
  {
   "cell_type": "markdown",
   "metadata": {},
   "source": [
    "If we want to have all the lines of the file, let's uncomment the lines of the next cell (the file has more than 1000 lines).<br/>\n",
    "Note that we close the file after the operation."
   ]
  },
  {
   "cell_type": "code",
   "execution_count": 61,
   "metadata": {
    "collapsed": false
   },
   "outputs": [],
   "source": [
    "# for row in reader:\n",
    "#    print row\n",
    "# f.close()"
   ]
  },
  {
   "cell_type": "markdown",
   "metadata": {},
   "source": [
    "## Reading the first N lines"
   ]
  },
  {
   "cell_type": "markdown",
   "metadata": {},
   "source": [
    "If we want to only read the first N lines, we use the [itertools](https://docs.python.org/2/library/itertools.html#module-itertools) module.\n",
    "\n",
    "In particular the function [islice](https://docs.python.org/2/library/itertools.html#itertools.islice) allows us to specify the last element (5 in this example) of the iteration."
   ]
  },
  {
   "cell_type": "code",
   "execution_count": 62,
   "metadata": {
    "collapsed": false
   },
   "outputs": [
    {
     "name": "stdout",
     "output_type": "stream",
     "text": [
      "['Platform', ' Instrument', ' Paramenter', ' Units', ' Date', ' Value', ' QC value ']\n",
      "['Buoy_CanalDeIbiza', ' SCB-SBE37006', ' sea_water_salinity', ' psu', ' 2015-12-01 12:00:00', ' 36.916', ' 1.0']\n",
      "['Buoy_CanalDeIbiza', ' SCB-SBE37006', ' sea_water_salinity', ' psu', ' 2015-12-01 01:00:00', ' 36.936', ' 1.0']\n",
      "['Buoy_CanalDeIbiza', ' SCB-SBE37006', ' sea_water_salinity', ' psu', ' 2015-12-01 02:00:00', ' 36.929', ' 1.0']\n",
      "['Buoy_CanalDeIbiza', ' SCB-SBE37006', ' sea_water_salinity', ' psu', ' 2015-12-01 03:00:00', ' 36.927', ' 1.0']\n"
     ]
    }
   ],
   "source": [
    "import itertools\n",
    "for row in itertools.islice(reader, 5):\n",
    "    print row\n",
    "f.close()"
   ]
  },
  {
   "cell_type": "markdown",
   "metadata": {},
   "source": [
    "## Printing select columns"
   ]
  },
  {
   "cell_type": "markdown",
   "metadata": {},
   "source": [
    "The first four columns are always the same, the we are not interested in printing their content. "
   ]
  },
  {
   "cell_type": "code",
   "execution_count": 63,
   "metadata": {
    "collapsed": false
   },
   "outputs": [
    {
     "name": "stdout",
     "output_type": "stream",
     "text": [
      "[' Date', ' Value', ' QC value ']\n",
      "[' 2015-12-01 12:00:00', ' 36.916', ' 1.0']\n",
      "[' 2015-12-01 01:00:00', ' 36.936', ' 1.0']\n",
      "[' 2015-12-01 02:00:00', ' 36.929', ' 1.0']\n",
      "[' 2015-12-01 03:00:00', ' 36.927', ' 1.0']\n"
     ]
    }
   ],
   "source": [
    "f = open(csvfile, 'rb')\n",
    "reader = csv.reader(f, delimiter=',')\n",
    "for row in itertools.islice(reader, 5):\n",
    "    print row[4:]\n",
    "f.close()"
   ]
  },
  {
   "cell_type": "markdown",
   "metadata": {},
   "source": [
    "We have: date, salinity, and quality flag."
   ]
  }
 ],
 "metadata": {
  "kernelspec": {
   "display_name": "Python 2",
   "language": "python",
   "name": "python2"
  },
  "language_info": {
   "codemirror_mode": {
    "name": "ipython",
    "version": 2
   },
   "file_extension": ".py",
   "mimetype": "text/x-python",
   "name": "python",
   "nbconvert_exporter": "python",
   "pygments_lexer": "ipython2",
   "version": "2.7.3"
  }
 },
 "nbformat": 4,
 "nbformat_minor": 0
}
