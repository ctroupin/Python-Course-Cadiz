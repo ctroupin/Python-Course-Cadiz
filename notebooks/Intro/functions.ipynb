{
 "cells": [
  {
   "cell_type": "markdown",
   "metadata": {},
   "source": [
    "# Functions\n",
    "You often want to avoid typing the same again and again.     \n",
    "A first solution is to have all the operations executed within a function."
   ]
  },
  {
   "cell_type": "code",
   "execution_count": 4,
   "metadata": {},
   "outputs": [],
   "source": [
    "def compute_speed(u, v):\n",
    "    speed = (u * u + v * v)**0.5\n",
    "    return speed"
   ]
  },
  {
   "cell_type": "code",
   "execution_count": 5,
   "metadata": {},
   "outputs": [
    {
     "data": {
      "text/plain": [
       "2.4698178070456938"
      ]
     },
     "execution_count": 5,
     "metadata": {},
     "output_type": "execute_result"
    }
   ],
   "source": [
    "compute_speed(1.3, 2.1)"
   ]
  },
  {
   "cell_type": "markdown",
   "metadata": {},
   "source": [
    "All the commands that come after the `return` line are not executed:"
   ]
  },
  {
   "cell_type": "code",
   "execution_count": 7,
   "metadata": {},
   "outputs": [],
   "source": [
    "def compute_speed(u, v):\n",
    "    speed = (u * u + v * v) ** 0.5\n",
    "    return speed\n",
    "    speed = speed * 3600."
   ]
  },
  {
   "cell_type": "code",
   "execution_count": 8,
   "metadata": {},
   "outputs": [
    {
     "data": {
      "text/plain": [
       "2.4698178070456938"
      ]
     },
     "execution_count": 8,
     "metadata": {},
     "output_type": "execute_result"
    }
   ],
   "source": [
    "compute_speed(1.3, 2.1)"
   ]
  },
  {
   "cell_type": "markdown",
   "metadata": {},
   "source": [
    "If we want to document the function, incluse some text the line coming after `def`:"
   ]
  },
  {
   "cell_type": "code",
   "execution_count": 9,
   "metadata": {},
   "outputs": [],
   "source": [
    "def compute_speed(u, v):\n",
    "    \"\"\"\n",
    "    Compute the total speed `speed` given its zonal and meridional components `u` and `v`\n",
    "    \"\"\"\n",
    "    speed = (u * u + v * v) ** 0.5\n",
    "    return speed\n",
    "    speed = speed * 3600."
   ]
  },
  {
   "cell_type": "markdown",
   "metadata": {},
   "source": [
    "so the docstring can be accessed by typing the name of the function followed by a question mark:"
   ]
  },
  {
   "cell_type": "code",
   "execution_count": 10,
   "metadata": {},
   "outputs": [],
   "source": [
    "compute_speed?"
   ]
  }
 ],
 "metadata": {
  "kernelspec": {
   "display_name": "Diva-python3.6",
   "language": "python",
   "name": "diva-python3.6"
  },
  "language_info": {
   "codemirror_mode": {
    "name": "ipython",
    "version": 3
   },
   "file_extension": ".py",
   "mimetype": "text/x-python",
   "name": "python",
   "nbconvert_exporter": "python",
   "pygments_lexer": "ipython3",
   "version": "3.6.0"
  }
 },
 "nbformat": 4,
 "nbformat_minor": 2
}
