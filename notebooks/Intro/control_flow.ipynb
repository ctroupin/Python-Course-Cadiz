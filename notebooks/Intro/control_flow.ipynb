{
 "cells": [
  {
   "cell_type": "markdown",
   "metadata": {},
   "source": [
    "# Control flow and iterations\n",
    "How to repeat operations (loops) and use conditions."
   ]
  },
  {
   "cell_type": "markdown",
   "metadata": {},
   "source": [
    "## Iterations\n",
    "There are various ways to make iteration, either by using a variable that can be iterated, or by creating you own:"
   ]
  },
  {
   "cell_type": "code",
   "execution_count": 23,
   "metadata": {},
   "outputs": [
    {
     "name": "stdout",
     "output_type": "stream",
     "text": [
      "0\n",
      "1\n",
      "8\n",
      "27\n",
      "64\n",
      "125\n"
     ]
    }
   ],
   "source": [
    "for i in range(0, 6):\n",
    "    print(i**3)"
   ]
  },
  {
   "cell_type": "code",
   "execution_count": 9,
   "metadata": {},
   "outputs": [
    {
     "name": "stdout",
     "output_type": "stream",
     "text": [
      "Glider\n",
      "CTD\n",
      "Drifting buoys\n",
      "Satellite\n"
     ]
    }
   ],
   "source": [
    "devices = [\"Glider\", \"CTD\", \"Drifting buoys\", \"Satellite\"]\n",
    "for d in devices:\n",
    "    print(d)"
   ]
  },
  {
   "cell_type": "code",
   "execution_count": 13,
   "metadata": {},
   "outputs": [
    {
     "name": "stdout",
     "output_type": "stream",
     "text": [
      "temperature\n",
      "salinity\n",
      "pressure\n",
      "velocity\n"
     ]
    }
   ],
   "source": [
    "variable_units = {\"temperature\": \"degrees C\", \n",
    "                  \"salinity\": \"PSU \", \n",
    "                  \"pressure\": \"hPa\",\n",
    "                  \"velocity\": \"m/s\"}\n",
    "for v in variable_units:\n",
    "    print(v)"
   ]
  },
  {
   "cell_type": "code",
   "execution_count": 14,
   "metadata": {},
   "outputs": [
    {
     "name": "stdout",
     "output_type": "stream",
     "text": [
      "degrees C\n",
      "PSU \n",
      "hPa\n",
      "m/s\n"
     ]
    }
   ],
   "source": [
    "for v in variable_units:\n",
    "    print(variable_units[v])"
   ]
  },
  {
   "cell_type": "code",
   "execution_count": 15,
   "metadata": {},
   "outputs": [
    {
     "name": "stdout",
     "output_type": "stream",
     "text": [
      "temperature degrees C\n",
      "salinity PSU \n",
      "pressure hPa\n",
      "velocity m/s\n"
     ]
    }
   ],
   "source": [
    "for k, v in variable_units.items():\n",
    "    print(k, v)"
   ]
  },
  {
   "cell_type": "markdown",
   "metadata": {},
   "source": [
    "## Enumerate\n",
    "Often you also need an integer index along with the items of the list"
   ]
  },
  {
   "cell_type": "code",
   "execution_count": 17,
   "metadata": {},
   "outputs": [
    {
     "name": "stdout",
     "output_type": "stream",
     "text": [
      "0 Glider\n",
      "1 CTD\n",
      "2 Drifting buoys\n",
      "3 Satellite\n"
     ]
    }
   ],
   "source": [
    "for ii, dev in enumerate(devices):\n",
    "    print(ii, dev)"
   ]
  },
  {
   "cell_type": "markdown",
   "metadata": {},
   "source": [
    "## Conditions\n",
    "The syntax is as follows:\n",
    "```python\n",
    "if condition1:\n",
    "    operation1\n",
    "elif condition2:\n",
    "    operation2\n",
    "else:\n",
    "    operation3\n",
    "```\n",
    "Note that:\n",
    "1. There is not `end` to close the condition! \n",
    "2. The columns are used after the `if` and the `else`."
   ]
  },
  {
   "cell_type": "code",
   "execution_count": 2,
   "metadata": {},
   "outputs": [
    {
     "name": "stdout",
     "output_type": "stream",
     "text": [
      "Salinity is too low\n"
     ]
    }
   ],
   "source": [
    "S = -2.\n",
    "if S > 40.:\n",
    "    print(\"Salinity is too high\")\n",
    "elif S < 0.0:\n",
    "    print(\"Salinity is too low\")\n",
    "else:\n",
    "    print(\"Good salinity\") "
   ]
  },
  {
   "cell_type": "markdown",
   "metadata": {},
   "source": [
    "### For loops\n",
    "Syntax:\n",
    "```python\n",
    "for i = range(1:N):\n",
    "    operation1\n",
    "```"
   ]
  },
  {
   "cell_type": "markdown",
   "metadata": {},
   "source": [
    "Example: convert velocity in km/h into m/s:"
   ]
  },
  {
   "cell_type": "code",
   "execution_count": 4,
   "metadata": {},
   "outputs": [
    {
     "name": "stdout",
     "output_type": "stream",
     "text": [
      "0.0\n",
      "0.2777777777777778\n",
      "0.6666666666666666\n",
      "0.005555555555555556\n"
     ]
    }
   ],
   "source": [
    "speed = [0, 1, 2.4, 0.02]\n",
    "for s in speed:\n",
    "    print(s * 1000. / 3600)"
   ]
  },
  {
   "cell_type": "markdown",
   "metadata": {},
   "source": [
    "## While...\n",
    "The operation is repeated while a condition is still true:"
   ]
  },
  {
   "cell_type": "code",
   "execution_count": 7,
   "metadata": {},
   "outputs": [],
   "source": [
    "i = 1\n",
    "while i ** 0.5 < 4.:\n",
    "    i += 1"
   ]
  },
  {
   "cell_type": "code",
   "execution_count": 8,
   "metadata": {},
   "outputs": [
    {
     "data": {
      "text/plain": [
       "16"
      ]
     },
     "execution_count": 8,
     "metadata": {},
     "output_type": "execute_result"
    }
   ],
   "source": [
    "i"
   ]
  },
  {
   "cell_type": "markdown",
   "metadata": {},
   "source": [
    "## Try... except"
   ]
  },
  {
   "cell_type": "code",
   "execution_count": 32,
   "metadata": {},
   "outputs": [],
   "source": []
  },
  {
   "cell_type": "markdown",
   "metadata": {},
   "source": [
    "## With..."
   ]
  },
  {
   "cell_type": "code",
   "execution_count": null,
   "metadata": {},
   "outputs": [],
   "source": []
  }
 ],
 "metadata": {
  "kernelspec": {
   "display_name": "Diva-python3.6",
   "language": "python",
   "name": "diva-python3.6"
  },
  "language_info": {
   "codemirror_mode": {
    "name": "ipython",
    "version": 3
   },
   "file_extension": ".py",
   "mimetype": "text/x-python",
   "name": "python",
   "nbconvert_exporter": "python",
   "pygments_lexer": "ipython3",
   "version": "3.6.0"
  }
 },
 "nbformat": 4,
 "nbformat_minor": 2
}
