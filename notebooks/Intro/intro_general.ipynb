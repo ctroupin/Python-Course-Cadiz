{
 "cells": [
  {
   "cell_type": "markdown",
   "metadata": {
    "slideshow": {
     "slide_type": "slide"
    }
   },
   "source": [
    "The present document is a *notebook*. It is made up of *cells*, each *cell* can have a different type:\n",
    "- text (Markdown) to explain the operations\n",
    "- code, which can be executed.    \n",
    "\n",
    "The present cell is a text one, the next one is a code celln in which we define a variable `b`:"
   ]
  },
  {
   "cell_type": "code",
   "execution_count": 4,
   "metadata": {
    "slideshow": {
     "slide_type": "slide"
    }
   },
   "outputs": [],
   "source": [
    "b = 2.71828"
   ]
  },
  {
   "cell_type": "markdown",
   "metadata": {
    "slideshow": {
     "slide_type": "subslide"
    }
   },
   "source": [
    "## Formatting the cell\n",
    "You don't need to know a lot of Markdown, there are a few basic commands.\n",
    "- Place `*` symbols around a string to make it italic.\n",
    "- Place `**` symbols to have a bold string.\n",
    "\n",
    "The `#` is used to format the cell different types if heading."
   ]
  },
  {
   "cell_type": "markdown",
   "metadata": {
    "slideshow": {
     "slide_type": "subslide"
    }
   },
   "source": [
    "### Lists\n",
    "* First item\n",
    "* Second item"
   ]
  },
  {
   "cell_type": "markdown",
   "metadata": {
    "slideshow": {
     "slide_type": "subslide"
    }
   },
   "source": [
    "### Numbered lists\n",
    "1. one\n",
    "2. two\n",
    "2. three"
   ]
  },
  {
   "cell_type": "markdown",
   "metadata": {
    "slideshow": {
     "slide_type": "subslide"
    }
   },
   "source": [
    "### Code \n",
    "```python\n",
    "import numpy\n",
    "np.array([2, 1])\n",
    "```"
   ]
  },
  {
   "cell_type": "markdown",
   "metadata": {
    "slideshow": {
     "slide_type": "slide"
    }
   },
   "source": [
    "## Converting a notebook to a presentation"
   ]
  },
  {
   "cell_type": "markdown",
   "metadata": {
    "slideshow": {
     "slide_type": "fragment"
    }
   },
   "source": [
    "1. Go to `View > Cell toolbar > Slideshow`\n",
    "2. Set the *Slide Type* for each cell\n",
    "3. Upload the file to GitHub\n",
    "4. Copy the link to [nbviewer](https://nbviewer.jupyter.org/)\n",
    "<img src=\"./figures/nbviewer1.png\" width=500px>\n",
    "5. Click on the logo to get the slideshow:\n",
    "<img src=\"./figures/nbviewer2.png\" width=500px>"
   ]
  },
  {
   "cell_type": "markdown",
   "metadata": {
    "slideshow": {
     "slide_type": "subslide"
    }
   },
   "source": [
    "Click [here](https://nbviewer.jupyter.org/format/slides/github/ctroupin/Python-Course-Cadiz/blob/master/notebooks/Intro/intro_general.ipynb#/) for a simple example."
   ]
  },
  {
   "cell_type": "markdown",
   "metadata": {
    "slideshow": {
     "slide_type": "slide"
    }
   },
   "source": [
    "## Export the notebook"
   ]
  },
  {
   "cell_type": "markdown",
   "metadata": {
    "slideshow": {
     "slide_type": "subslide"
    }
   },
   "source": [
    "Different format available:\n",
    "1. Python\n",
    "2. LaTeX\n",
    "3. PDF\n",
    "..."
   ]
  },
  {
   "cell_type": "code",
   "execution_count": null,
   "metadata": {},
   "outputs": [],
   "source": []
  }
 ],
 "metadata": {
  "celltoolbar": "Slideshow",
  "kernelspec": {
   "display_name": "Diva-python3.6",
   "language": "python",
   "name": "diva-python3.6"
  },
  "language_info": {
   "codemirror_mode": {
    "name": "ipython",
    "version": 3
   },
   "file_extension": ".py",
   "mimetype": "text/x-python",
   "name": "python",
   "nbconvert_exporter": "python",
   "pygments_lexer": "ipython3",
   "version": "3.6.0"
  }
 },
 "nbformat": 4,
 "nbformat_minor": 2
}
