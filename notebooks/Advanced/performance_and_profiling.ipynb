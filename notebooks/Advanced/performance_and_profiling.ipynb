{
 "cells": [
  {
   "cell_type": "markdown",
   "metadata": {},
   "source": [
    "# Code optimisation and profiling with `cProfile`"
   ]
  },
  {
   "cell_type": "markdown",
   "metadata": {},
   "source": [
    "## There are many routes to faster more efficient code\n",
    "*  Good coding practice (comes with experience, reading, Google searches, the PEPS, ...)\n",
    "*  Using timers (`time` module, %timeit `ipython` magic)\n",
    "*  Using profilers to find the bottlenecks\n",
    "*  Going outside of Python with `f2py` and `cython`\n",
    "    *  `f2py`: calling Fortran from Python\n",
    "    *  `cython`: calling C from Python\n",
    "    *  Easy to implement, but not covered here\n"
   ]
  },
  {
   "cell_type": "markdown",
   "metadata": {},
   "source": [
    "# 1. Tip for `numpy`\n",
    "\n",
    "## Use object methods where possible"
   ]
  },
  {
   "cell_type": "markdown",
   "metadata": {},
   "source": [
    "### In the terminal, open ipython"
   ]
  },
  {
   "cell_type": "code",
   "execution_count": 3,
   "metadata": {
    "collapsed": true
   },
   "outputs": [],
   "source": [
    "import numpy as np"
   ]
  },
  {
   "cell_type": "code",
   "execution_count": 7,
   "metadata": {
    "collapsed": false
   },
   "outputs": [
    {
     "name": "stdout",
     "output_type": "stream",
     "text": [
      "(10, 5, 10)\n"
     ]
    }
   ],
   "source": [
    "# Generate a multidimensional array\n",
    "x = np.arange(500.).reshape(10, 5, -1)\n",
    "np.random.shuffle(x)\n",
    "print x.shape\n"
   ]
  },
  {
   "cell_type": "markdown",
   "metadata": {},
   "source": [
    "### ipython %magic functions"
   ]
  },
  {
   "cell_type": "code",
   "execution_count": 10,
   "metadata": {
    "collapsed": false
   },
   "outputs": [
    {
     "name": "stderr",
     "output_type": "stream",
     "text": [
      "ERROR: Line magic function `%` not found.\n"
     ]
    }
   ],
   "source": [
    "%"
   ]
  },
  {
   "cell_type": "markdown",
   "metadata": {},
   "source": [
    "### We will do a reduction operation on `x` and use the ipython %magic function `%timeit` to time it"
   ]
  },
  {
   "cell_type": "code",
   "execution_count": 11,
   "metadata": {
    "collapsed": false
   },
   "outputs": [
    {
     "name": "stdout",
     "output_type": "stream",
     "text": [
      "The slowest run took 10.85 times longer than the fastest. This could mean that an intermediate result is being cached \n",
      "100000 loops, best of 3: 5.45 µs per loop\n"
     ]
    }
   ],
   "source": [
    "%timeit np.sum(x) # Here we use the numpy attribute *sum*"
   ]
  },
  {
   "cell_type": "code",
   "execution_count": 12,
   "metadata": {
    "collapsed": false
   },
   "outputs": [
    {
     "name": "stdout",
     "output_type": "stream",
     "text": [
      "The slowest run took 9.48 times longer than the fastest. This could mean that an intermediate result is being cached \n",
      "100000 loops, best of 3: 4.33 µs per loop\n"
     ]
    }
   ],
   "source": [
    "%timeit x.sum() # Here we use the object method *sum*"
   ]
  },
  {
   "cell_type": "markdown",
   "metadata": {},
   "source": [
    "### Why the difference?\n",
    "*  numpy methods have overheads (type?, shape?)\n",
    "___"
   ]
  },
  {
   "cell_type": "markdown",
   "metadata": {},
   "source": [
    "## In-place operations"
   ]
  },
  {
   "cell_type": "code",
   "execution_count": 13,
   "metadata": {
    "collapsed": false
   },
   "outputs": [],
   "source": [
    "x = np.arange(100000.)"
   ]
  },
  {
   "cell_type": "code",
   "execution_count": 14,
   "metadata": {
    "collapsed": false
   },
   "outputs": [
    {
     "name": "stdout",
     "output_type": "stream",
     "text": [
      "1 loops, best of 3: 5.28 s per loop\n"
     ]
    }
   ],
   "source": [
    "%%timeit y = np.zeros((1000, 100))\n",
    "for i in x:\n",
    "    y = y + i"
   ]
  },
  {
   "cell_type": "code",
   "execution_count": 15,
   "metadata": {
    "collapsed": false
   },
   "outputs": [
    {
     "name": "stdout",
     "output_type": "stream",
     "text": [
      "1 loops, best of 3: 4.33 s per loop\n"
     ]
    }
   ],
   "source": [
    "%%timeit y = np.zeros((1000, 100))\n",
    "for i in x:\n",
    "    y += i"
   ]
  },
  {
   "cell_type": "markdown",
   "metadata": {},
   "source": [
    "___\n",
    "# 2. cProfile\n",
    "\n",
    "A builtin Python code profiler\n",
    "* For larger codes where we don't have time to use `%timeit` on every line"
   ]
  },
  {
   "cell_type": "markdown",
   "metadata": {},
   "source": [
    "Code below calculates the Julia set (see https://en.wikipedia.org/wiki/Julia_set), taken from https://github.com/mynameisfiber/high_performance_python\n",
    "\n",
    "* This book, \"High Performance Python\" by Gorelick & Ozsvald, is highly recommended\n",
    "* See also http://ianozsvald.com/HighPerformancePythonfromTrainingatEuroPython2011_v0.2.pdf"
   ]
  },
  {
   "cell_type": "code",
   "execution_count": 16,
   "metadata": {
    "collapsed": false
   },
   "outputs": [],
   "source": [
    "\"\"\"Julia set generator with optional Pillow-based image drawing\"\"\"\n",
    "from PIL import Image\n",
    "import array\n",
    "\n",
    "def show_greyscale(output_raw, width, height, max_iterations):\n",
    "    \"\"\"Convert list to array, show using PIL\"\"\"\n",
    "    # convert our output to PIL-compatible input\n",
    "    # scale to [0...255]\n",
    "    max_iterations = float(max(output_raw))\n",
    "    print max_iterations\n",
    "    scale_factor = float(max_iterations)\n",
    "    scaled = [int(o / scale_factor * 255) for o in output_raw]\n",
    "    output = array.array('B', scaled)  # array of unsigned ints\n",
    "    # display with PIL\n",
    "    im = Image.new(\"L\", (width, width))\n",
    "    # EXPLAIN RAW L 0 -1\n",
    "    im.frombytes(output.tostring(), \"raw\", \"L\", 0, -1)\n",
    "    im.show()\n",
    "\n",
    "\n",
    "def show_false_greyscale(output_raw, width, height, max_iterations):\n",
    "    \"\"\"Convert list to array, show using PIL\"\"\"\n",
    "    # convert our output to PIL-compatible input\n",
    "    # sanity check our 1D array and desired 2D form\n",
    "    assert width * height == len(output_raw)\n",
    "    # rescale output_raw to be in the inclusive range [0..255]\n",
    "    max_value = float(max(output_raw))\n",
    "    output_raw_limited = [int(float(o) / max_value * 255) for o in output_raw]\n",
    "    # create a slightly fancy colour map that shows colour changes with\n",
    "    # increased contrast (thanks to John Montgomery)\n",
    "    output_rgb = (\n",
    "        (o + (256 * o) + (256 ** 2) * o) * 16 for o in output_raw_limited)  # fancier\n",
    "    # array of unsigned ints (size is platform specific)\n",
    "    output_rgb = array.array('I', output_rgb)\n",
    "    # display with PIL/pillow\n",
    "    im = Image.new(\"RGB\", (width, height))\n",
    "    # EXPLAIN RGBX L 0 -1\n",
    "    im.frombytes(output_rgb.tostring(), \"raw\", \"RGBX\", 0, -1)\n",
    "    im.show()\n",
    "\n",
    "\n"
   ]
  },
  {
   "cell_type": "code",
   "execution_count": 17,
   "metadata": {
    "collapsed": false
   },
   "outputs": [
    {
     "name": "stdout",
     "output_type": "stream",
     "text": [
      "Length of x: 1000\n",
      "Total elements: 1000000\n",
      "calculate_z_serial_purepython took 7.08579397202 seconds\n",
      "300.0\n"
     ]
    }
   ],
   "source": [
    "import time\n",
    "\n",
    "# area of complex space to investigate\n",
    "x1, x2, y1, y2 = -1.8, 1.8, -1.8, 1.8\n",
    "c_real, c_imag = -0.62772, -.42193\n",
    "\n",
    "def calculate_z_serial_purepython(maxiter, zs, cs):\n",
    "    \"\"\"Calculate output list using Julia update rule\"\"\"\n",
    "    output = [0] * len(zs)\n",
    "    for i in range(len(zs)):\n",
    "        n = 0\n",
    "        z = zs[i]\n",
    "        c = cs[i]\n",
    "        while abs(z) < 2 and n < maxiter:\n",
    "            z = z * z + c\n",
    "            n += 1\n",
    "        output[i] = n\n",
    "    return output\n",
    "\n",
    "\n",
    "def calc_pure_python(draw_output, desired_width, max_iterations):\n",
    "    \"\"\"Create a list of complex co-ordinates (zs) and complex parameters (cs), build Julia set and display\"\"\"\n",
    "    x_step = (float(x2 - x1) / float(desired_width))\n",
    "    y_step = (float(y1 - y2) / float(desired_width))\n",
    "    x = []\n",
    "    y = []\n",
    "    ycoord = y2\n",
    "    while ycoord > y1:\n",
    "        y.append(ycoord)\n",
    "        ycoord += y_step\n",
    "    xcoord = x1\n",
    "    while xcoord < x2:\n",
    "        x.append(xcoord)\n",
    "        xcoord += x_step\n",
    "    # set width and height to the generated pixel counts, rather than the\n",
    "    # pre-rounding desired width and height\n",
    "    width = len(x)\n",
    "    height = len(y)\n",
    "    # build a list of co-ordinates and the initial condition for each cell.\n",
    "    # Note that our initial condition is a constant and could easily be removed,\n",
    "    # we use it to simulate a real-world scenario with several inputs to our\n",
    "    # function\n",
    "    zs = []\n",
    "    cs = []\n",
    "    for ycoord in y:\n",
    "        for xcoord in x:\n",
    "            zs.append(complex(xcoord, ycoord))\n",
    "            cs.append(complex(c_real, c_imag))\n",
    "\n",
    "    print \"Length of x:\", len(x)\n",
    "    print \"Total elements:\", len(zs)\n",
    "    start_time = time.time()\n",
    "    output = calculate_z_serial_purepython(max_iterations, zs, cs)\n",
    "    end_time = time.time()\n",
    "    secs = end_time - start_time\n",
    "    print calculate_z_serial_purepython.func_name + \" took\", secs, \"seconds\"\n",
    "\n",
    "    # this sum is expected for 1000^2 grid with 300 iterations\n",
    "    assert sum(output) == 33219980\n",
    "\n",
    "    if draw_output:\n",
    "        #show_false_greyscale(output, width, height, max_iterations)\n",
    "        show_greyscale(output, width, height, max_iterations)\n",
    "\n",
    "\n",
    "if __name__ == \"__main__\":\n",
    "    # Calculate the Julia set using a pure Python solution with\n",
    "    # reasonable defaults for a laptop\n",
    "    # set draw_output to True to use PIL to draw an image\n",
    "    calc_pure_python(draw_output=True, desired_width=1000, max_iterations=300)"
   ]
  },
  {
   "cell_type": "markdown",
   "metadata": {},
   "source": [
    "## How well is this script performing and can we improve it?\n",
    "\n",
    "\n",
    "\n",
    "* We must use `cProfile`\n",
    "\n",
    "Go to https://github.com/mynameisfiber/high_performance_python/tree/master/01_profiling/cpu_profiling and download **julia1_nopil.py**\n",
    "\n",
    "At the terminal, run:\n",
    "\n",
    "    $ python -m cProfile julia1_nopil.py"
   ]
  },
  {
   "cell_type": "markdown",
   "metadata": {},
   "source": [
    "### What if we want to sort by cumulative time?\n",
    "\n",
    "    $ python -m cProfile -s cumtime julia1_nopil.py"
   ]
  },
  {
   "cell_type": "markdown",
   "metadata": {},
   "source": [
    "___\n",
    "### Another way to use cProfile: `cprofilev`\n",
    "\n",
    "https://ymichael.com/2014/03/08/profiling-python-with-cprofile.html\n",
    "\n",
    "https://github.com/ymichael/cprofilev"
   ]
  },
  {
   "cell_type": "markdown",
   "metadata": {},
   "source": [
    "#### Install cprofilev\n",
    "$ pip install cprofilev\n",
    "\n",
    "#### Run the code, but now save the cProfile output\n",
    "$ python -m cProfile -o profile_output julia1_nopil.py\n",
    "\n",
    "#### Call it with your cprofile output\n",
    "$ cprofilev /path/to/cprofile/output\n",
    "\n",
    "#### Navigate to http://localhost:4000 and you can see and manipulate the results in the web browser"
   ]
  },
  {
   "cell_type": "markdown",
   "metadata": {},
   "source": [
    "___\n",
    "# Exercise (30 minutes)\n",
    "The methods `calculate_z_serial_purepython` and `calc_pure_python` above are written with *pure Python*; this means that they don't use `numpy`.\n",
    "\n",
    "Work alone or with a partner.\n",
    "\n",
    "Starting with `calc_pure_python` try to introduce `numpy` into the code, and use `cProfile` and `cprofilev` to evaluate any changes in performance\n",
    "*  You will need to find equivalent *numpy* methods\n",
    "*  Make just one or two small changes, then test them, etc..."
   ]
  },
  {
   "cell_type": "markdown",
   "metadata": {
    "collapsed": true
   },
   "source": [
    "___\n",
    "# Finally, the PEPS\n",
    "\n",
    "Yesterday, you learned about `PEP20` (the Zen of Python).  Today we have `PEP8`, the style guide for Python coding:\n",
    "\n",
    "https://www.python.org/dev/peps/pep-0008/\n",
    "\n",
    "Many editors (e.g., PyCharm, Atom, ...) have functions that will automatically format your code according to `PEP8`"
   ]
  },
  {
   "cell_type": "code",
   "execution_count": null,
   "metadata": {
    "collapsed": true
   },
   "outputs": [],
   "source": [
    "\n",
    "\n",
    "\n",
    "\n",
    "\n",
    "\n",
    "\n",
    "\n",
    "\n",
    "\n",
    "\n",
    "\n"
   ]
  }
 ],
 "metadata": {
  "kernelspec": {
   "display_name": "Python 2",
   "language": "python",
   "name": "python2"
  },
  "language_info": {
   "codemirror_mode": {
    "name": "ipython",
    "version": 2
   },
   "file_extension": ".py",
   "mimetype": "text/x-python",
   "name": "python",
   "nbconvert_exporter": "python",
   "pygments_lexer": "ipython2",
   "version": "2.7.11"
  }
 },
 "nbformat": 4,
 "nbformat_minor": 0
}
