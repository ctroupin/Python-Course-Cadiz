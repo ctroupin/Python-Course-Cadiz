{
 "cells": [
  {
   "cell_type": "markdown",
   "metadata": {},
   "source": [
    "# Virtual environment with `virtualenv`"
   ]
  },
  {
   "cell_type": "markdown",
   "metadata": {},
   "source": [
    "## Why use a virtual environment?\n",
    "1. No root access\n",
    "2. Testing/debugging with different versions (of numpy, scipy, etc)\n",
    "\n",
    "There may be other uses, but these two have happened for me\n",
    "\n",
    "___\n"
   ]
  },
  {
   "cell_type": "markdown",
   "metadata": {},
   "source": [
    "## Before starting, let's check the state of our Python installation\n",
    "\n",
    "1. At the terminal, open *ipython*\n",
    "2. Import *numpy*, *scipy* and *matplotlib*\n",
    "  * `import numpy as np`\n",
    "  * `import scipy as sci`\n",
    "  * `import matplotlib as mpl`\n",
    "\n",
    "3. Find out and *write down* the versions we have:\n",
    "  * `print np.__version__`\n",
    "  * etc"
   ]
  },
  {
   "cell_type": "markdown",
   "metadata": {},
   "source": [
    "## Now, how do I set up a virtual environment?\n",
    "\n",
    "Fortunately, it's very easy with `virtualenv`...\n",
    "\n",
    "https://virtualenv.readthedocs.org/en/latest/\n",
    "___"
   ]
  },
  {
   "cell_type": "markdown",
   "metadata": {},
   "source": [
    "Install `virtualenv` with `pip`:\n",
    "\n",
    "    $ pip install virtualenv\n",
    "\n",
    "___"
   ]
  },
  {
   "cell_type": "markdown",
   "metadata": {},
   "source": [
    "Make a new virtual environment with:\n",
    "    \n",
    "    $ virtualenv ENV\n",
    "\n",
    "A new directory called ENV will be created, check its contents with `ls`\n",
    "* What does it contain?\n",
    "\n",
    "* You don't have to call it ENV, any name is ok\n",
    "* You can make many different virtual environments (ENV1, ENV2, ...) according to your needs\n",
    "___\n",
    "\n",
    "Activate the virtual environment with:\n",
    "\n",
    "    $ source bin/activate\n",
    "\n",
    "or for Windows:\n",
    "\n",
    "    $ \\path\\to\\env\\Scripts\\activate\n",
    "\n",
    "___"
   ]
  },
  {
   "cell_type": "markdown",
   "metadata": {},
   "source": [
    "## Now we can start installing the modules we want\n",
    "\n",
    "Again, we use `pip`. Try:\n",
    "\n",
    "    $ pip install numpy\n",
    "    \n",
    "and check what version you have.  Is it the same or different from your system version?\n",
    "\n",
    "Now try installing a different version in the virtual environment, for example:\n",
    "\n",
    "    $ pip install numpy==1.8\n",
    "\n",
    "___\n"
   ]
  },
  {
   "cell_type": "markdown",
   "metadata": {},
   "source": [
    "# A recent example of usefulness of `virtualenv`\n",
    "\n",
    "Memory leak in a *scipy* function introduced in v0.16\n",
    "https://github.com/scipy/scipy/issues/5630\n",
    "\n",
    "Will be fixed in 0.17\n",
    "https://github.com/scipy/scipy/pull/5635\n",
    "\n",
    "___"
   ]
  },
  {
   "cell_type": "markdown",
   "metadata": {},
   "source": [
    "# Exercise\n",
    "\n",
    "Use the example script from either of the two links above to see their behaviour when using *scipy* 0.15 and 0.16"
   ]
  },
  {
   "cell_type": "code",
   "execution_count": null,
   "metadata": {
    "collapsed": true
   },
   "outputs": [],
   "source": []
  }
 ],
 "metadata": {
  "kernelspec": {
   "display_name": "Python 2",
   "language": "python",
   "name": "python2"
  },
  "language_info": {
   "codemirror_mode": {
    "name": "ipython",
    "version": 2
   },
   "file_extension": ".py",
   "mimetype": "text/x-python",
   "name": "python",
   "nbconvert_exporter": "python",
   "pygments_lexer": "ipython2",
   "version": "2.7.15"
  }
 },
 "nbformat": 4,
 "nbformat_minor": 1
}
