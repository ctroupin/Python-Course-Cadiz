{
 "cells": [
  {
   "cell_type": "markdown",
   "metadata": {},
   "source": [
    "# Virtual environments\n",
    "* What? Virtual environments allow users to easily manage different package versions and combinations seemlessly. \n",
    "* Why? Because sometimes a tool only works with a given version of a package, or sometimes packages have compatibility issues.      \n",
    "\n",
    "Here we present the method using the *virtualenv wrapper*."
   ]
  },
  {
   "cell_type": "markdown",
   "metadata": {},
   "source": [
    "## Installation\n",
    "The installation is performed using `pip`\n",
    "```bash\n",
    "pip install virtualenvwrapper\n",
    "```"
   ]
  },
  {
   "cell_type": "markdown",
   "metadata": {},
   "source": [
    "## Configuration\n",
    "We set up the directory where all the new virtualenvs will be created:\n",
    "```bash\n",
    "export WORKON_HOME=~/Envs\n",
    "mkdir -p $WORKON_HOME\n",
    "source /usr/local/bin/virtualenvwrapper.sh\n",
    "```"
   ]
  },
  {
   "cell_type": "markdown",
   "metadata": {},
   "source": [
    "The previous export and source commands can be added in the `.bashrc` file so that they are executed automatically."
   ]
  },
  {
   "cell_type": "markdown",
   "metadata": {},
   "source": [
    "### Creation of the environment\n",
    "Use the command `mkvirtualenv` and specifify its name:\n",
    "```bash\n",
    "mkvirtualenv Oceano\n",
    "```\n",
    "\n",
    "Sometimes you wish to specify which python is used in the environment:\n",
    "```bash\n",
    "mkvirtualenv --python=/usr/local/bin/python3.6 3Dplot\n",
    "```"
   ]
  },
  {
   "cell_type": "code",
   "execution_count": null,
   "metadata": {},
   "outputs": [],
   "source": []
  }
 ],
 "metadata": {
  "kernelspec": {
   "display_name": "Diva-python3.6",
   "language": "python",
   "name": "diva-python3.6"
  },
  "language_info": {
   "codemirror_mode": {
    "name": "ipython",
    "version": 3
   },
   "file_extension": ".py",
   "mimetype": "text/x-python",
   "name": "python",
   "nbconvert_exporter": "python",
   "pygments_lexer": "ipython3",
   "version": "3.6.0"
  }
 },
 "nbformat": 4,
 "nbformat_minor": 2
}
