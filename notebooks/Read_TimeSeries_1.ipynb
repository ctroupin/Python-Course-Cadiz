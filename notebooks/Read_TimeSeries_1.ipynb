{
 "cells": [
  {
   "cell_type": "markdown",
   "metadata": {},
   "source": [
    "The goal is to see how we can read the data contained in a netCDF file. Several possibilities will be examined."
   ]
  },
  {
   "cell_type": "markdown",
   "metadata": {},
   "source": [
    "# Reading a local file"
   ]
  },
  {
   "cell_type": "markdown",
   "metadata": {},
   "source": [
    "We define the directory and the file name. *datafile* have to be adapted according to your case.<br>\n",
    "The example file contains data from a sea-level station in Sant Antoni (Ibiza)."
   ]
  },
  {
   "cell_type": "code",
   "execution_count": 4,
   "metadata": {
    "collapsed": true
   },
   "outputs": [],
   "source": [
    "datafile = \"../data/dep0001_station-santantoni_scb-wlog001_L1_2016-01.nc\""
   ]
  },
  {
   "cell_type": "markdown",
   "metadata": {},
   "source": [
    "To read the file we need the [netCDF4 interface](http://unidata.github.io/netcdf4-python/) for python. "
   ]
  },
  {
   "cell_type": "code",
   "execution_count": 33,
   "metadata": {
    "collapsed": true
   },
   "outputs": [],
   "source": [
    "import netCDF4\n",
    "ds = netCDF4.Dataset(datafile, 'r')"
   ]
  },
  {
   "cell_type": "markdown",
   "metadata": {},
   "source": [
    "where the first argurment of the files and **'r'** indicates that it's open for reading (**'w'** would be used for writing).<br/> \n",
    "**ds** contains all the information about the dataset:\n",
    "* Metadata (global attributes)\n",
    "* Dimensions\n",
    "* Variables"
   ]
  },
  {
   "cell_type": "markdown",
   "metadata": {},
   "source": [
    "## Metadata"
   ]
  },
  {
   "cell_type": "code",
   "execution_count": 8,
   "metadata": {
    "collapsed": false,
    "scrolled": true
   },
   "outputs": [
    {
     "name": "stdout",
     "output_type": "stream",
     "text": [
      "<type 'netCDF4.Dataset'>\n",
      "root group (NETCDF3_CLASSIC data model, file format NETCDF3):\n",
      "    title: Data from instrument SCB-WLOG001 on platform Station SantAntoni\n",
      "    institution: SOCIB (Sistema de Observación y predicción Costero de las Islas Baleares)\n",
      "    netcdf_version: 3.0\n",
      "    Conventions: CF-1.6\n",
      "    abstract: Deployment of instrument SCB-WLOG001 at Sant Antoni station in endurance line\n",
      "<span id=\"docs-internal-guid-d924c7fb-dff4-38bb-ec9f-ebc666b42cb4\"><p dir=\"ltr\" style=\"line-height:1.38;margin-top:0pt;margin-bottom:0pt;\"><span style=\"font-size: 15px; font-family: Arial; vertical-align: baseline; white-space: pre-wrap;\">The main objective of the Sant Antoni Station is to provide measures of sea level. Therefore the station is equipped with a radar water level sensor and an atmospheric pressure sensor.</span></p><br><p dir=\"ltr\" style=\"line-height:1.38;margin-top:0pt;margin-bottom:0pt;\"><span style=\"font-size: 15px; font-family: Arial; vertical-align: baseline; white-space: pre-wrap;\">Positioned the radar water level sensor directly over the water surface it determines water level by measuring the elapsed time between the emission of short microwave pulses and the return. The so-called pulse procedure sends a short microwave impulse to the water surface. The transmitter has a short time lag. Within this time the water transmits the pulses to the integrated evaluation system. The runtime of the impulses corresponds directly to the distance to the actual surface water level.</span></p><br><p dir=\"ltr\" style=\"line-height:1.38;margin-top:0pt;margin-bottom:0pt;\"><span style=\"font-size: 15px; font-family: Arial; vertical-align: baseline; white-space: pre-wrap;\">SOCIB installed this sea level station in February 2015 and manages since then.</span></p><span style=\"font-size: 15px; font-family: Arial; vertical-align: baseline; white-space: pre-wrap;\">The station has the support of Ports IB</span></span>\n",
      "    summary: Deployment of instrument SCB-WLOG001 at Sant Antoni station in endurance line\n",
      "<span id=\"docs-internal-guid-d924c7fb-dff4-38bb-ec9f-ebc666b42cb4\"><p dir=\"ltr\" style=\"line-height:1.38;margin-top:0pt;margin-bottom:0pt;\"><span style=\"font-size: 15px; font-family: Arial; vertical-align: baseline; white-space: pre-wrap;\">The main objective of the Sant Antoni Station is to provide measures of sea level. Therefore the station is equipped with a radar water level sensor and an atmospheric pressure sensor.</span></p><br><p dir=\"ltr\" style=\"line-height:1.38;margin-top:0pt;margin-bottom:0pt;\"><span style=\"font-size: 15px; font-family: Arial; vertical-align: baseline; white-space: pre-wrap;\">Positioned the radar water level sensor directly over the water surface it determines water level by measuring the elapsed time between the emission of short microwave pulses and the return. The so-called pulse procedure sends a short microwave impulse to the water surface. The transmitter has a short time lag. Within this time the water transmits the pulses to the integrated evaluation system. The runtime of the impulses corresponds directly to the distance to the actual surface water level.</span></p><br><p dir=\"ltr\" style=\"line-height:1.38;margin-top:0pt;margin-bottom:0pt;\"><span style=\"font-size: 15px; font-family: Arial; vertical-align: baseline; white-space: pre-wrap;\">SOCIB installed this sea level station in February 2015 and manages since then.</span></p><span style=\"font-size: 15px; font-family: Arial; vertical-align: baseline; white-space: pre-wrap;\">The station has the support of Ports IB</span></span>\n",
      "    date_created: 2016-01-01T00:12:49+00:00\n",
      "    date_update: 2016-01-12T14:32:28+00:00\n",
      "    date_modified: 2016-01-12T14:32:28+00:00\n",
      "    cdm_data_type: TimeSeries\n",
      "    CF:featureType: timeSeries\n",
      "    featureType: timeSeries\n",
      "    data_mode: R\n",
      "    processing_level: L1 - Derived variables and quality control procedures applied\n",
      "    instrument_serial: AMU1648TF\n",
      "    id: 269_265_2016-01-12T14:32:28+00:00\n",
      "    platform_code: 269\n",
      "    instrument_code: 265\n",
      "    keywords_vocabulary: http://gcmd.nasa.gov/Resources/valids/archives/keyword_list.html\n",
      "    standard_name_vocabulary: http://cf-pcmdi.llnl.gov/documents/cf-standard-names/standard-name-table/16/cf-standard-name-table.html\n",
      "    geospatial_lat_min: 38.977089\n",
      "    geospatial_lat_max: 38.977089\n",
      "    geospatial_lon_min: 1.298776\n",
      "    geospatial_lon_max: 1.298776\n",
      "    geospatial_vertical_min: 0.0\n",
      "    geospatial_vertical_max: 0.0\n",
      "    geospatial_lat_units: degree_north\n",
      "    geospatial_lon_units: degree_east\n",
      "    geospatial_vertical_units: m\n",
      "    geospatial_vertical_positive: down\n",
      "    time_coverage_start: 2016-01-01T00:00:00+00:00\n",
      "    time_coverage_end: 2016-01-12T14:28:00+00:00\n",
      "    time_coverage_duration: P0Y0M11DT14H28M0.000S\n",
      "    time_coverage_resolution: P0Y0M0DT0H1M0.000S\n",
      "    data_center: SOCIB Data Center\n",
      "    data_center_email: data.centre@socib.es\n",
      "    institution_references: http://www.socib.es/\n",
      "    principal_investigator: Joaquín Tintoré\n",
      "    principal_investigator_email: jtintore@socib.es\n",
      "    project: SOCIB Operational\n",
      "    author: SOCIB Data Center\n",
      "    author_email: data.centre@socib.es\n",
      "    creator_name: SOCIB Data Center\n",
      "    creator_url: http://www.socib.es/?seccion=dataCenter\n",
      "    creator_email: data.centre@socib.es\n",
      "    publisher_name: SOCIB\n",
      "    publisher_url: http://www.socib.es\n",
      "    publisher_email: info@socib.es\n",
      "    manufacture_name: H2FX\n",
      "    instrument_model: H500XL\n",
      "    distribution_statement: Approved for public release. Distribution Unlimited.\n",
      "    license: Approved for public release. Distribution Unlimited.\n",
      "    citation: Balearic Island Coastal and Observing Forecasting System.\n",
      "    acknowledgement: Ministerio de Economia y Competitividad (http://www.mineco.gob.es/). Govern de les Illes Balears (http://www.caib.es/).\n",
      "    update_interval: every 600 seconds\n",
      "    dimensions(sizes): time(16709), name_strlen(33)\n",
      "    variables(dimensions): |S1 \u001b[4mstation_name\u001b[0m(name_strlen), float64 \u001b[4mtime\u001b[0m(time), float64 \u001b[4mLAT\u001b[0m(), float64 \u001b[4mDEPTH\u001b[0m(), float64 \u001b[4mLON\u001b[0m(), float64 \u001b[4mSLEV\u001b[0m(time), int8 \u001b[4mQC_SLEV\u001b[0m(time), float64 \u001b[4mSLEV_STD_DEV\u001b[0m(time), float64 \u001b[4mVOLT\u001b[0m(time)\n",
      "    groups: \n",
      "\n"
     ]
    }
   ],
   "source": [
    "print ds"
   ]
  },
  {
   "cell_type": "markdown",
   "metadata": {},
   "source": [
    "We can access the global attributes individually:"
   ]
  },
  {
   "cell_type": "code",
   "execution_count": 12,
   "metadata": {
    "collapsed": false
   },
   "outputs": [
    {
     "name": "stdout",
     "output_type": "stream",
     "text": [
      "Title: Data from instrument SCB-WLOG001 on platform Station SantAntoni\n",
      "Institution: SOCIB (Sistema de Observación y predicción Costero de las Islas Baleares)\n",
      "Reference: http://www.socib.es/\n"
     ]
    }
   ],
   "source": [
    "print(\"Title: %s\" %(ds.title)) \n",
    "print(\"Institution: %s\" %(ds.institution))\n",
    "print(\"Reference: %s\" %(ds.institution_references))"
   ]
  },
  {
   "cell_type": "markdown",
   "metadata": {},
   "source": [
    "## Data"
   ]
  },
  {
   "cell_type": "markdown",
   "metadata": {},
   "source": [
    "Now we want to load some of the variables: we use the *ds.variables*.<br/>\n",
    "This command, without arguments, give the list of the available variables."
   ]
  },
  {
   "cell_type": "code",
   "execution_count": 1,
   "metadata": {
    "collapsed": false
   },
   "outputs": [
    {
     "ename": "NameError",
     "evalue": "name 'ds' is not defined",
     "output_type": "error",
     "traceback": [
      "\u001b[1;31m---------------------------------------------------------------------------\u001b[0m",
      "\u001b[1;31mNameError\u001b[0m                                 Traceback (most recent call last)",
      "\u001b[1;32m<ipython-input-1-4de297347570>\u001b[0m in \u001b[0;36m<module>\u001b[1;34m()\u001b[0m\n\u001b[1;32m----> 1\u001b[1;33m \u001b[0mds\u001b[0m\u001b[1;33m.\u001b[0m\u001b[0mvariables\u001b[0m\u001b[1;33m\u001b[0m\u001b[0m\n\u001b[0m",
      "\u001b[1;31mNameError\u001b[0m: name 'ds' is not defined"
     ]
    }
   ],
   "source": [
    "ds.variables"
   ]
  },
  {
   "cell_type": "markdown",
   "metadata": {},
   "source": [
    "To read them, we need to indicate the name in brackets, for example, time (time) and sea level height (SLEV):"
   ]
  },
  {
   "cell_type": "code",
   "execution_count": 24,
   "metadata": {
    "collapsed": false
   },
   "outputs": [],
   "source": [
    "time = ds.variables['time']\n",
    "sealevel = ds.variables['SLEV']"
   ]
  },
  {
   "cell_type": "markdown",
   "metadata": {},
   "source": [
    "**Important:** these commands read the variables, but not the numerical values stored in it. "
   ]
  },
  {
   "cell_type": "code",
   "execution_count": 25,
   "metadata": {
    "collapsed": false
   },
   "outputs": [
    {
     "name": "stdout",
     "output_type": "stream",
     "text": [
      "<type 'netCDF4.Variable'>\n",
      "float64 SLEV(time)\n",
      "    standard_name: water_surface_height_above_reference_datum\n",
      "    long_name: Sea level corrected\n",
      "    units: m\n",
      "    ancillary_variables: QC_SLEV\n",
      "    coordinates: time LAT LON DEPTH\n",
      "    original_units: m\n",
      "    observation_type: derived\n",
      "    precision: 0.001\n",
      "unlimited dimensions: time\n",
      "current shape = (16709,)\n",
      "filling off\n",
      "\n"
     ]
    }
   ],
   "source": [
    "print sealevel"
   ]
  },
  {
   "cell_type": "markdown",
   "metadata": {},
   "source": [
    "This means that the variable depends on one dimension: the time.<br/> \n",
    "We also know:\n",
    "* long_name, \n",
    "* standard_name, \n",
    "* units, \n",
    "and other useful pieces of information concerning the temperature.\n",
    "\n",
    "To get the values corresponding to the variables, the synthax is:"
   ]
  },
  {
   "cell_type": "code",
   "execution_count": 26,
   "metadata": {
    "collapsed": false
   },
   "outputs": [],
   "source": [
    "sealevel_values = sealevel[:]\n",
    "time_values = time[:]"
   ]
  },
  {
   "cell_type": "markdown",
   "metadata": {},
   "source": [
    "To get the variable attributes:"
   ]
  },
  {
   "cell_type": "code",
   "execution_count": 27,
   "metadata": {
    "collapsed": false
   },
   "outputs": [
    {
     "name": "stdout",
     "output_type": "stream",
     "text": [
      "Time units: seconds since 1970-01-01 00:00:00\n",
      "Sea level units: seconds since 1970-01-01 00:00:00\n"
     ]
    }
   ],
   "source": [
    "print(\"Time units: %s\" %(time.units))\n",
    "print(\"Sea level units: %s\" %(time.units))"
   ]
  },
  {
   "cell_type": "markdown",
   "metadata": {},
   "source": [
    "If we want we can get the numerical values stored in the variable in one command:"
   ]
  },
  {
   "cell_type": "code",
   "execution_count": 34,
   "metadata": {
    "collapsed": false
   },
   "outputs": [],
   "source": [
    "time_values = ds.variables['time'][:]"
   ]
  },
  {
   "cell_type": "markdown",
   "metadata": {},
   "source": [
    "## Quick plot"
   ]
  },
  {
   "cell_type": "markdown",
   "metadata": {},
   "source": [
    "Just a quick plot to see everything is fine. More details about the plots will be given later.\n",
    "\n",
    "The first line indicates that we want the figure inside the notebook (not in an external window)."
   ]
  },
  {
   "cell_type": "code",
   "execution_count": 29,
   "metadata": {
    "collapsed": false
   },
   "outputs": [
    {
     "data": {
      "image/png": "[encoded data removed]",
      "text/plain": [
       "<matplotlib.figure.Figure at 0x2287750>"
      ]
     },
     "metadata": {},
     "output_type": "display_data"
    }
   ],
   "source": [
    "%matplotlib inline\n",
    "import matplotlib.pyplot as plt\n",
    "plt.plot(sealevel)\n",
    "plt.show()"
   ]
  },
  {
   "cell_type": "markdown",
   "metadata": {},
   "source": [
    "The values seem plausible (units: meters), but with some missing data."
   ]
  },
  {
   "cell_type": "markdown",
   "metadata": {},
   "source": [
    "By the way... we haven't closed the netCDF file yet..."
   ]
  },
  {
   "cell_type": "code",
   "execution_count": 31,
   "metadata": {
    "collapsed": false
   },
   "outputs": [],
   "source": [
    "ds.close()"
   ]
  },
  {
   "cell_type": "markdown",
   "metadata": {},
   "source": [
    "We will see that this can be done in a more elegant way."
   ]
  }
 ],
 "metadata": {
  "kernelspec": {
   "display_name": "Python 2",
   "language": "python",
   "name": "python2"
  },
  "language_info": {
   "codemirror_mode": {
    "name": "ipython",
    "version": 2
   },
   "file_extension": ".py",
   "mimetype": "text/x-python",
   "name": "python",
   "nbconvert_exporter": "python",
   "pygments_lexer": "ipython2",
   "version": "2.7.5+"
  }
 },
 "nbformat": 4,
 "nbformat_minor": 0
}
